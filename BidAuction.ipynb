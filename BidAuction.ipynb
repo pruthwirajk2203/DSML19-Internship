{
 "cells": [
  {
   "cell_type": "code",
   "execution_count": 1,
   "id": "430b2139",
   "metadata": {},
   "outputs": [],
   "source": [
    "from IPython.display import clear_output"
   ]
  },
  {
   "cell_type": "code",
   "execution_count": 2,
   "id": "8e16478b",
   "metadata": {},
   "outputs": [],
   "source": [
    "dict_auction = {}\n",
    "bidders_available = 'Y'\n",
    "# bidder_name\n",
    "# bid_value"
   ]
  },
  {
   "cell_type": "code",
   "execution_count": 3,
   "id": "23a397cf",
   "metadata": {},
   "outputs": [],
   "source": [
    "while bidders_available=='Y':\n",
    "    bidder_name = input(\"Please enter your name : \").strip()\n",
    "    bid_value = int(input(\"Please enter your bid value : \").strip())\n",
    "\n",
    "    dict_auction.update({bidder_name:bid_value})\n",
    "    \n",
    "    bidders_available = input(\"Any other bidder wants to bid? Press Y to continue\").upper()[0]\n",
    "    clear_output(wait=False)"
   ]
  },
  {
   "cell_type": "code",
   "execution_count": 4,
   "id": "39885660",
   "metadata": {},
   "outputs": [
    {
     "name": "stdout",
     "output_type": "stream",
     "text": [
      "{'Raj': 50000, 'Ram': 25000, 'Hira': 40000, 'Prem': 45000, 'Rahul': 30000}\n",
      "Winner of the Auction is : \n",
      "Raj 50000\n"
     ]
    }
   ],
   "source": [
    "print(dict_auction)\n",
    "print('Winner of the Auction is : ')\n",
    "print(list(dict_auction.keys())[list(dict_auction.values()).index(max(dict_auction.values()))],\n",
    "      max(dict_auction.values()))"
   ]
  },
  {
   "cell_type": "code",
   "execution_count": null,
   "id": "406e389d",
   "metadata": {},
   "outputs": [],
   "source": []
  },
  {
   "cell_type": "code",
   "execution_count": null,
   "id": "9db4aa43",
   "metadata": {},
   "outputs": [],
   "source": []
  }
 ],
 "metadata": {
  "kernelspec": {
   "display_name": "Python 3 (ipykernel)",
   "language": "python",
   "name": "python3"
  },
  "language_info": {
   "codemirror_mode": {
    "name": "ipython",
    "version": 3
   },
   "file_extension": ".py",
   "mimetype": "text/x-python",
   "name": "python",
   "nbconvert_exporter": "python",
   "pygments_lexer": "ipython3",
   "version": "3.9.12"
  }
 },
 "nbformat": 4,
 "nbformat_minor": 5
}
