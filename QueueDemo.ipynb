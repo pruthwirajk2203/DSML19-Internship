{
 "cells": [
  {
   "cell_type": "code",
   "execution_count": 1,
   "id": "4ad0f11f",
   "metadata": {},
   "outputs": [],
   "source": [
    "import QueueOperations as que"
   ]
  },
  {
   "cell_type": "code",
   "execution_count": null,
   "id": "52427cdf",
   "metadata": {},
   "outputs": [],
   "source": [
    "queue = list()\n",
    "\n",
    "while True:\n",
    "    command = input().split()\n",
    "    \n",
    "    instruct = command[0].upper()\n",
    "    \n",
    "    if instruct == 'STOP':\n",
    "        break\n",
    "    \n",
    "    if instruct == 'COUNT':\n",
    "        total = que.count_element(queue)\n",
    "        print(total)\n",
    "    \n",
    "    if instruct == 'DISPLAY':\n",
    "        que.display(queue)\n",
    "        \n",
    "    if instruct == 'REMOVE':\n",
    "        queue = que.dequeue(queue)\n",
    "        \n",
    "    if instruct == 'INSERT':\n",
    "        ele = command[1]\n",
    "        queue = que.enqueue(queue, ele)"
   ]
  }
 ],
 "metadata": {
  "kernelspec": {
   "display_name": "Python 3 (ipykernel)",
   "language": "python",
   "name": "python3"
  },
  "language_info": {
   "codemirror_mode": {
    "name": "ipython",
    "version": 3
   },
   "file_extension": ".py",
   "mimetype": "text/x-python",
   "name": "python",
   "nbconvert_exporter": "python",
   "pygments_lexer": "ipython3",
   "version": "3.9.12"
  }
 },
 "nbformat": 4,
 "nbformat_minor": 5
}
