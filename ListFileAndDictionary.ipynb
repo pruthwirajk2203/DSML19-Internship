{
 "cells": [
  {
   "cell_type": "code",
   "execution_count": 1,
   "id": "0c72dcee",
   "metadata": {},
   "outputs": [],
   "source": [
    "import os"
   ]
  },
  {
   "cell_type": "code",
   "execution_count": 2,
   "id": "0b784fd0",
   "metadata": {},
   "outputs": [
    {
     "name": "stdout",
     "output_type": "stream",
     "text": [
      "Enter few words : Tiger Lion Elephant Monkey Hyena Tiger Elephant Cheetah Tiger Lion Monkey\n"
     ]
    }
   ],
   "source": [
    "with open(\"WordFile.txt\",\"w\") as wfp:\n",
    "    wordList = input(\"Enter few words : \").split()\n",
    "\n",
    "    for word in wordList:\n",
    "        wfp.writelines(word+\"\\n\")\n",
    "        \n",
    "    wfp.close()"
   ]
  },
  {
   "cell_type": "code",
   "execution_count": 3,
   "id": "b3f307a5",
   "metadata": {},
   "outputs": [
    {
     "name": "stdout",
     "output_type": "stream",
     "text": [
      "{'Tiger': 3, 'Lion': 2, 'Elephant': 2, 'Monkey': 2, 'Hyena': 1, 'Cheetah': 1}\n"
     ]
    }
   ],
   "source": [
    "wordFreq = {}\n",
    "\n",
    "with open(\"WordFile.txt\",\"r\") as rfp:\n",
    "    data = rfp.readlines()\n",
    "    \n",
    "    for d in data:\n",
    "        i = d.strip()\n",
    "        if i in wordFreq.keys():\n",
    "            wordFreq[i] += 1\n",
    "        else:\n",
    "            wordFreq[i] = 1\n",
    "            \n",
    "print(wordFreq)"
   ]
  },
  {
   "cell_type": "code",
   "execution_count": 4,
   "id": "f58b0d5a",
   "metadata": {},
   "outputs": [],
   "source": [
    "rfp.close()"
   ]
  }
 ],
 "metadata": {
  "kernelspec": {
   "display_name": "Python 3 (ipykernel)",
   "language": "python",
   "name": "python3"
  },
  "language_info": {
   "codemirror_mode": {
    "name": "ipython",
    "version": 3
   },
   "file_extension": ".py",
   "mimetype": "text/x-python",
   "name": "python",
   "nbconvert_exporter": "python",
   "pygments_lexer": "ipython3",
   "version": "3.9.12"
  }
 },
 "nbformat": 4,
 "nbformat_minor": 5
}
