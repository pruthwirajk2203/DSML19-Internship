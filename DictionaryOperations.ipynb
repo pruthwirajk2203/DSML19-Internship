{
 "cells": [
  {
   "cell_type": "code",
   "execution_count": 1,
   "id": "6d9c707a",
   "metadata": {},
   "outputs": [],
   "source": [
    "def showMenu():\n",
    "    print(\" Main Menu \".center(20,'='))\n",
    "    print(\"1. Create Dictionary\".ljust(20,' '))\n",
    "    print(\"2. Insert Item\".ljust(20,' '))\n",
    "    print(\"3. Remove Item\".ljust(20,' '))\n",
    "    print(\"4. Search Item\".ljust(20,' '))\n",
    "    print(\"5. Sort Dictionary\".ljust(20,' '))\n",
    "    print(\"\".center(20,'='))"
   ]
  },
  {
   "cell_type": "code",
   "execution_count": 2,
   "id": "13e84f29",
   "metadata": {},
   "outputs": [],
   "source": [
    "def removeMenu():\n",
    "    print(\" Remove Menu \".center(20,'='))\n",
    "    print(\"3. Remove Item\".ljust(20,' '))\n",
    "    print(\"->a. Specific Item\".rjust(len(\"->a. Specific Item\") + 5,' '))\n",
    "    print(\"->b. Last Inserted\".rjust(len(\"->b. Last Inserted\") + 5,' '))\n",
    "    print(\"\".center(20,'='))"
   ]
  },
  {
   "cell_type": "code",
   "execution_count": 3,
   "id": "68a6250a",
   "metadata": {},
   "outputs": [],
   "source": [
    "def sortMenu():\n",
    "    print(\" Sort Menu \".center(20,'='))\n",
    "    print(\"5. Sort List\".ljust(20,' '))\n",
    "    print(\"->s. Stud_Id\".rjust(len(\"->s. Stud_Id\") + 5,' '))\n",
    "    print(\"->n. Name\".rjust(len(\"->n. Name\") + 5,' '))\n",
    "    print(\"->m. Mobile_No\".rjust(len(\"->m. Mobile_No\") + 5,' '))\n",
    "    print(\"->e. Email_Id\".rjust(len(\"->e. Email_Id\") + 5,' '))\n",
    "    print(\"\".center(20,'='))"
   ]
  },
  {
   "cell_type": "code",
   "execution_count": 4,
   "id": "0261d022",
   "metadata": {},
   "outputs": [],
   "source": [
    "def searchMenu():\n",
    "    print(\" Search Menu \".center(20,'='))\n",
    "    print(\"4. Search Item\".ljust(20,' '))\n",
    "    print(\"->s. Stud_Id\".rjust(len(\"->s. Stud_Id\") + 5,' '))\n",
    "    print(\"->n. Name\".rjust(len(\"->n. Name\") + 5,' '))\n",
    "    print(\"->m. Mobile_No\".rjust(len(\"->m. Mobile_No\") + 5,' '))\n",
    "    print(\"->e. Email_Id\".rjust(len(\"->e. Email_Id\") + 5,' '))\n",
    "    print(\"\".center(20,'='))"
   ]
  },
  {
   "cell_type": "code",
   "execution_count": 5,
   "id": "da20721c",
   "metadata": {},
   "outputs": [],
   "source": [
    "def createDictionary():\n",
    "    nDict = dict()\n",
    "    return nDict"
   ]
  },
  {
   "cell_type": "code",
   "execution_count": 6,
   "id": "75f2bdad",
   "metadata": {},
   "outputs": [],
   "source": [
    "def insertItem(dct, key, item):\n",
    "    dct.setdefault(key,item)\n",
    "    return dct"
   ]
  },
  {
   "cell_type": "code",
   "execution_count": 7,
   "id": "fbf2c86b",
   "metadata": {},
   "outputs": [],
   "source": [
    "def removeItem(dct, key):\n",
    "    dct.pop(key)\n",
    "    return dct"
   ]
  },
  {
   "cell_type": "code",
   "execution_count": 8,
   "id": "cc7c3b3c",
   "metadata": {},
   "outputs": [],
   "source": [
    "def removeLastInsertedItem(dct):\n",
    "    dct.popitem()\n",
    "    return dct"
   ]
  },
  {
   "cell_type": "code",
   "execution_count": 9,
   "id": "2f816851",
   "metadata": {},
   "outputs": [],
   "source": [
    "def searchItem(dct, searchBy, searchValue):\n",
    "    for rec in dct.items():\n",
    "        if rec[1][searchBy] == searchValue:\n",
    "            return rec\n",
    "    return \"Not found\""
   ]
  },
  {
   "cell_type": "code",
   "execution_count": 10,
   "id": "615fd875",
   "metadata": {},
   "outputs": [],
   "source": [
    "def sortDictionary(dct, sortBy, sortType):\n",
    "    sortedData = sorted(dct.items(), key=lambda k:k[1][sortBy], reverse=sortType)\n",
    "    d = {}\n",
    "    for sId, rec in sortedData:\n",
    "        d.setdefault(sId,rec)\n",
    "        \n",
    "    return d"
   ]
  },
  {
   "cell_type": "code",
   "execution_count": 11,
   "id": "cee02299",
   "metadata": {},
   "outputs": [],
   "source": [
    "record_cols = ['Stud_Id', 'Name', 'Branch', 'Mobile_No', 'Email_Id']"
   ]
  },
  {
   "cell_type": "code",
   "execution_count": 12,
   "id": "7dca6d69",
   "metadata": {},
   "outputs": [
    {
     "data": {
      "text/plain": [
       "['Stud_Id', 'Name', 'Branch', 'Mobile_No', 'Email_Id']"
      ]
     },
     "execution_count": 12,
     "metadata": {},
     "output_type": "execute_result"
    }
   ],
   "source": [
    "record_cols"
   ]
  },
  {
   "cell_type": "code",
   "execution_count": 13,
   "id": "b4ed9d87",
   "metadata": {},
   "outputs": [],
   "source": [
    "def generateStudentRecord():\n",
    "    item = []\n",
    "    \n",
    "    for col in record_cols:\n",
    "        print(\"Enter the value for the : \", col)\n",
    "        item.append(input())\n",
    "    \n",
    "    record = dict(zip(record_cols,item))\n",
    "        \n",
    "    return record"
   ]
  },
  {
   "cell_type": "code",
   "execution_count": null,
   "id": "36a51e4f",
   "metadata": {},
   "outputs": [],
   "source": []
  },
  {
   "cell_type": "code",
   "execution_count": null,
   "id": "80cc573d",
   "metadata": {},
   "outputs": [],
   "source": []
  }
 ],
 "metadata": {
  "kernelspec": {
   "display_name": "Python 3 (ipykernel)",
   "language": "python",
   "name": "python3"
  },
  "language_info": {
   "codemirror_mode": {
    "name": "ipython",
    "version": 3
   },
   "file_extension": ".py",
   "mimetype": "text/x-python",
   "name": "python",
   "nbconvert_exporter": "python",
   "pygments_lexer": "ipython3",
   "version": "3.9.12"
  }
 },
 "nbformat": 4,
 "nbformat_minor": 5
}
