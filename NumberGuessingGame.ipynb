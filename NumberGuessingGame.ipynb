{
 "cells": [
  {
   "cell_type": "code",
   "execution_count": 1,
   "id": "eeae369e",
   "metadata": {},
   "outputs": [],
   "source": [
    "import random\n",
    "from IPython.display import clear_output"
   ]
  },
  {
   "cell_type": "code",
   "execution_count": 2,
   "id": "577b8fd3",
   "metadata": {},
   "outputs": [],
   "source": [
    "def showInfo():\n",
    "    print(\"Hello\", userName, \"and welcome to Number Guessing Game\")\n",
    "    print(\"1. The game is very simple.\")\n",
    "    print(\"2. You will be given certain no. of steps.\")\n",
    "    print(\"3. Within these no. of steps you have to guess the Random Number(Between 1 to 100).\")\n",
    "    print(\"4. After each attemp you will be told whether the number is 'High' or 'Low'.\")\n",
    "    print(\"5. For Example; if the Number is 48\")\n",
    "    print(\"6. If you guess number as 74 game will print 'Low', as the original number is less than what you guess.\")\n",
    "    print(\"7. And if you guess number as 20 game will print 'High', as the original number is greater than what you guess.\")\n",
    "    print(\"8. If you are able to guess the correct number within given no of attempts, you win otherwise you lose.\")\n",
    "    print(\"All the Best\".center(50,\"*\"))"
   ]
  },
  {
   "cell_type": "code",
   "execution_count": 3,
   "id": "d0f6c2fc",
   "metadata": {},
   "outputs": [],
   "source": [
    "def showMenu():\n",
    "    print('E. Easy (10 steps)')\n",
    "    print('H. Hard (5 Steps)')"
   ]
  },
  {
   "cell_type": "code",
   "execution_count": 4,
   "id": "0e752358",
   "metadata": {},
   "outputs": [],
   "source": [
    "play = 'Y'\n",
    "\n",
    "userName = input(\"Please enter your name : \")\n",
    "showInfo()\n",
    "while play.upper() == 'Y':\n",
    "    flag = 'N'\n",
    "    showMenu()\n",
    "    print()\n",
    "    difficulty = input(\"Choose your difficulty level !! : \")\n",
    "    \n",
    "    if difficulty.upper() == 'E':\n",
    "        steps = 10\n",
    "    elif difficulty.upper() == 'H':\n",
    "        steps = 5\n",
    "    else:\n",
    "        print(\"You entered a wrong option!!\")\n",
    "    \n",
    "    number = random.randint(1,100)\n",
    "    \n",
    "    for i in range(0,steps):\n",
    "        userNumber = int(input(\"Please enter a number : \"))\n",
    "        \n",
    "        if userNumber < number:\n",
    "            print(\"High\")\n",
    "        elif userNumber > number:\n",
    "            print(\"Low\")\n",
    "        else:\n",
    "            print(\"Hurray!!! You won!!!\")\n",
    "            flag = 'Y'\n",
    "            break\n",
    "    if flag == 'N':\n",
    "        print(\"Sorry!!! Better luck next time!!!\")\n",
    "        print(\"The number is\", number)\n",
    "    \n",
    "    play = input(\"Do you want to play again? (Press 'Y' to play again)\")\n",
    "    clear_output(wait=False)"
   ]
  }
 ],
 "metadata": {
  "kernelspec": {
   "display_name": "Python 3 (ipykernel)",
   "language": "python",
   "name": "python3"
  },
  "language_info": {
   "codemirror_mode": {
    "name": "ipython",
    "version": 3
   },
   "file_extension": ".py",
   "mimetype": "text/x-python",
   "name": "python",
   "nbconvert_exporter": "python",
   "pygments_lexer": "ipython3",
   "version": "3.9.12"
  }
 },
 "nbformat": 4,
 "nbformat_minor": 5
}
