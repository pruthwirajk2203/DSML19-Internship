{
 "cells": [
  {
   "cell_type": "code",
   "execution_count": 1,
   "id": "5aae487a",
   "metadata": {},
   "outputs": [],
   "source": [
    "import FileHandlingOperations as fo"
   ]
  },
  {
   "cell_type": "code",
   "execution_count": 2,
   "id": "6abc459c",
   "metadata": {},
   "outputs": [
    {
     "name": "stdout",
     "output_type": "stream",
     "text": [
      "Please enter the name of the file : DataFile.txt\n",
      "Write some data to the file : \n",
      "Type 'N' to stop\n",
      "Hello and welcome all.\n",
      "This is new Python Tutorial\n",
      "We are beginning with a 5 minute tutorial.\n",
      "I will tell you about Python basics and coding here.\n",
      "We will see some quick and easy ways to learn programming.\n",
      "By the way my name is Pruthwiraj.\n",
      "I will be your trainer for the entire session.\n",
      "N\n",
      "Main Menu\n",
      "1. Print First N Lines\n",
      "2. Print Last N Lines\n",
      "3. Longest Word\n",
      "4. Count Characters\n",
      "\n",
      "Select your option to perform action : 1\n",
      "Enter number of lines to read : 3\n",
      "Hello and welcome all.\n",
      "This is new Python Tutorial\n",
      "We are beginning with a 5 minute tutorial.\n",
      "Do you want to perform another operation?\n",
      "(Press 'Y' to continue) : y\n",
      "Main Menu\n",
      "1. Print First N Lines\n",
      "2. Print Last N Lines\n",
      "3. Longest Word\n",
      "4. Count Characters\n",
      "\n",
      "Select your option to perform action : 2\n",
      "Enter number of lines to read : 4\n",
      "I will tell you about Python basics and coding here.\n",
      "We will see some quick and easy ways to learn programming.\n",
      "By the way my name is Pruthwiraj.\n",
      "I will be your trainer for the entire session.\n",
      "Do you want to perform another operation?\n",
      "(Press 'Y' to continue) : y\n",
      "Main Menu\n",
      "1. Print First N Lines\n",
      "2. Print Last N Lines\n",
      "3. Longest Word\n",
      "4. Count Characters\n",
      "\n",
      "Select your option to perform action : 3\n",
      "['programming.']\n",
      "Do you want to perform another operation?\n",
      "(Press 'Y' to continue) : y\n",
      "Main Menu\n",
      "1. Print First N Lines\n",
      "2. Print Last N Lines\n",
      "3. Longest Word\n",
      "4. Count Characters\n",
      "\n",
      "Select your option to perform action : 4\n",
      "Total Chracters present in the file :  287\n",
      "Do you want to perform another operation?\n",
      "(Press 'Y' to continue) : n\n"
     ]
    }
   ],
   "source": [
    "another = 'Y'\n",
    "\n",
    "filename = input(\"Please enter the name of the file : \")\n",
    "print(\"Write some data to the file : \")\n",
    "wFile = fo.getWriteFilePointer(filename)\n",
    "wFile = fo.writeMultipleLines(filename)\n",
    "rFile = fo.getReadFilePointer(filename)\n",
    "rFile.read()\n",
    "while another.upper() == 'Y':\n",
    "    fo.showMenu()\n",
    "    print()\n",
    "    opt = int(input(\"Select your option to perform action : \"))\n",
    "    \n",
    "    if opt == 1:\n",
    "        num = int(input(\"Enter number of lines to read : \"))\n",
    "        fo.readMultipleLines(filename, num, 'First')\n",
    "    elif opt == 2:\n",
    "        num = int(input(\"Enter number of lines to read : \"))\n",
    "        fo.readMultipleLines(filename, num, 'Last')\n",
    "    elif opt == 3:\n",
    "        wordList = fo.getLongestWord(filename)\n",
    "        print(wordList)\n",
    "    elif opt == 4:\n",
    "        countChar = fo.getCharCount(filename)\n",
    "        print(\"Total Chracters present in the file : \",countChar)\n",
    "    else:\n",
    "        print(\"Wrong Choce entered.!!!\")\n",
    "    \n",
    "    another = input(\"Do you want to perform another operation?\\n(Press 'Y' to continue) : \")"
   ]
  },
  {
   "cell_type": "code",
   "execution_count": null,
   "id": "d69a7ff7",
   "metadata": {},
   "outputs": [],
   "source": []
  }
 ],
 "metadata": {
  "kernelspec": {
   "display_name": "Python 3 (ipykernel)",
   "language": "python",
   "name": "python3"
  },
  "language_info": {
   "codemirror_mode": {
    "name": "ipython",
    "version": 3
   },
   "file_extension": ".py",
   "mimetype": "text/x-python",
   "name": "python",
   "nbconvert_exporter": "python",
   "pygments_lexer": "ipython3",
   "version": "3.9.12"
  }
 },
 "nbformat": 4,
 "nbformat_minor": 5
}
