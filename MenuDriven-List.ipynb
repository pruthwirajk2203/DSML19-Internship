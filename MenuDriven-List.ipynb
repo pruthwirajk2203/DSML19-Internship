{
 "cells": [
  {
   "cell_type": "code",
   "execution_count": 3,
   "id": "e40e635c",
   "metadata": {},
   "outputs": [],
   "source": [
    "import ListOperations as lo\n",
    "from IPython.display import clear_output"
   ]
  },
  {
   "cell_type": "code",
   "execution_count": 5,
   "id": "4012114f",
   "metadata": {},
   "outputs": [],
   "source": [
    "another = 'Y'\n",
    "print(\"Welcome to List Operations!\")\n",
    "while another.upper() == 'Y':\n",
    "    lo.showMenu()\n",
    "    print()\n",
    "    opt = input(\"Please choose the option from list! : \")\n",
    "    \n",
    "    if opt == '1':\n",
    "        myList = lo.createList()\n",
    "    elif opt == '2':\n",
    "        print(\"Insert Item\".center(20,'='))\n",
    "        pos = int(input(\"Enter the position of the item : \"))\n",
    "        item = input(\"Enter the value of the item : \")\n",
    "        myList = lo.insertItem(myList, pos, item)\n",
    "    elif opt == '3':\n",
    "        print(\"Remove Item\".center(20,'='))\n",
    "        item = input(\"Enter the value of the item : \")\n",
    "        myList = lo.removeItem(myList, item)\n",
    "    elif opt == '4':\n",
    "        print(\"Maximum of List\".center(20,'='))\n",
    "        maxOf_myList = lo.getMax(myList)\n",
    "        print(maxOf_myList)\n",
    "    elif opt == '5':\n",
    "        print(\"Minimum of List\".center(20,'='))\n",
    "        minOf_myList = lo.getMin(myList)\n",
    "        print(minOf_myList)\n",
    "    elif opt == '6':\n",
    "        print(\"Sort List\".center(20,'='))\n",
    "        lo.sortMenu()\n",
    "        print()\n",
    "        sort_opt = input(\"Please choose the option from list! : \")\n",
    "        if sort_opt == 'a':\n",
    "            lo.sortList(myList, False)\n",
    "        elif sort_opt == 'b':\n",
    "            lo.sortList(myList, True)\n",
    "        else:\n",
    "            print(\"You have chosen wrong option!!\")\n",
    "    else:\n",
    "        print(\"You have chosen wrong option!!\")\n",
    "    \n",
    "    print(myList)\n",
    "    another = input(\"Do you want to perform another operation? \\\n",
    "                    (Enter Y to continue...)\")\n",
    "    clear_output(wait=False)"
   ]
  },
  {
   "cell_type": "code",
   "execution_count": null,
   "id": "a8a19912",
   "metadata": {},
   "outputs": [],
   "source": []
  }
 ],
 "metadata": {
  "kernelspec": {
   "display_name": "Python 3 (ipykernel)",
   "language": "python",
   "name": "python3"
  },
  "language_info": {
   "codemirror_mode": {
    "name": "ipython",
    "version": 3
   },
   "file_extension": ".py",
   "mimetype": "text/x-python",
   "name": "python",
   "nbconvert_exporter": "python",
   "pygments_lexer": "ipython3",
   "version": "3.9.12"
  }
 },
 "nbformat": 4,
 "nbformat_minor": 5
}
