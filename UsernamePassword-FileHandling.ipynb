{
 "cells": [
  {
   "cell_type": "code",
   "execution_count": 1,
   "id": "47247f1b",
   "metadata": {},
   "outputs": [],
   "source": [
    "import os\n",
    "import random\n",
    "import string"
   ]
  },
  {
   "cell_type": "code",
   "execution_count": 2,
   "id": "bbe844f8",
   "metadata": {},
   "outputs": [],
   "source": [
    "def randomPasswordGenerator():\n",
    "    randPass = []\n",
    "    charSet = string.ascii_letters+string.digits+string.punctuation\n",
    "    l = random.randint(8,16)\n",
    "    for i in range(l):\n",
    "        ch = random.choice(charSet)\n",
    "        randPass.append(ch)\n",
    "        \n",
    "    return \"\".join(randPass)"
   ]
  },
  {
   "cell_type": "code",
   "execution_count": 3,
   "id": "d8b04257",
   "metadata": {},
   "outputs": [],
   "source": [
    "def showMenu():\n",
    "    print(\"Main Menu\")\n",
    "    print(\"R. Register User\")\n",
    "    print(\"V. Validate User\")"
   ]
  },
  {
   "cell_type": "code",
   "execution_count": 5,
   "id": "91ba748d",
   "metadata": {},
   "outputs": [
    {
     "name": "stdout",
     "output_type": "stream",
     "text": [
      "Main Menu\n",
      "R. Register User\n",
      "V. Validate User\n",
      "\n",
      "Press 'R' to register or 'V' to Validate user account. : r\n",
      "Enter Username : Pruthwiraj\n",
      "Do you want to set auto-generated password?\n",
      "Press 'Y' to continue : y\n",
      "GXfA-IP=c\n",
      "Do you want to continue? (Press 'Y' to continue) : y\n",
      "Main Menu\n",
      "R. Register User\n",
      "V. Validate User\n",
      "\n",
      "Press 'R' to register or 'V' to Validate user account. : r\n",
      "Enter Username : Sujay\n",
      "Do you want to set auto-generated password?\n",
      "Press 'Y' to continue : n\n",
      "Enter your passsword : Sujay@123\n",
      "Do you want to continue? (Press 'Y' to continue) : y\n",
      "Main Menu\n",
      "R. Register User\n",
      "V. Validate User\n",
      "\n",
      "Press 'R' to register or 'V' to Validate user account. : r\n",
      "Enter Username : Pallavi\n",
      "Do you want to set auto-generated password?\n",
      "Press 'Y' to continue : y\n",
      "f??I7~9t_(\n",
      "Do you want to continue? (Press 'Y' to continue) : y\n",
      "Main Menu\n",
      "R. Register User\n",
      "V. Validate User\n",
      "\n",
      "Press 'R' to register or 'V' to Validate user account. : v\n",
      "Enter space separated Username and Password : Pruthwiraj /Sgd34%34\n",
      "Either user does not exist or not validated!!!\n",
      "Do you want to continue? (Press 'Y' to continue) : y\n",
      "Main Menu\n",
      "R. Register User\n",
      "V. Validate User\n",
      "\n",
      "Press 'R' to register or 'V' to Validate user account. : Pallavi f??I7~9t_(\n",
      "Do you want to continue? (Press 'Y' to continue) : y\n",
      "Main Menu\n",
      "R. Register User\n",
      "V. Validate User\n",
      "\n",
      "Press 'R' to register or 'V' to Validate user account. : v\n",
      "Enter space separated Username and Password : Pallavi f??I7~9t_(\n",
      "User Validated!!!\n",
      "Do you want to continue? (Press 'Y' to continue) : n\n"
     ]
    }
   ],
   "source": [
    "another = 'Y'\n",
    "\n",
    "while another.upper() == 'Y':\n",
    "    showMenu()\n",
    "    print()\n",
    "    \n",
    "    opt = input(\"Press 'R' to register or 'V' to Validate user account. : \")\n",
    "    \n",
    "    if opt.upper() == 'R':\n",
    "        wFile = open(\"UsersData.txt\",\"a\")\n",
    "        strUn = input(\"Enter Username : \")\n",
    "        setPass = input(\"Do you want to set auto-generated password?\\nPress 'Y' to continue : \")\n",
    "        \n",
    "        if setPass.upper() == 'Y':\n",
    "            strPass = randomPasswordGenerator()\n",
    "            print(strPass)\n",
    "        else:\n",
    "            strPass = input(\"Enter your passsword : \")\n",
    "        \n",
    "        strUnPs = strUn + ' ' + strPass\n",
    "        wFile.writelines(strUnPs+\"\\n\")\n",
    "        wFile.close()\n",
    "    elif opt.upper() == 'V':\n",
    "        flag = 'N'\n",
    "        rFile = open(\"UsersData.txt\")\n",
    "        sUserInp = input(\"Enter space separated Username and Password : \").split()\n",
    "        strUnPs = rFile.readlines()\n",
    "        for x in strUnPs:\n",
    "            if (x.split()[0] == sUserInp[0]) and (x.split()[1] == sUserInp[1]):\n",
    "                print(\"User Validated!!!\")\n",
    "                flag = 'Y'\n",
    "                break  \n",
    "        \n",
    "        if flag == 'N':\n",
    "            print(\"Either user does not exist or not validated!!!\")\n",
    "        rFile.close()\n",
    "    \n",
    "    another = input(\"Do you want to continue? (Press 'Y' to continue) : \")"
   ]
  },
  {
   "cell_type": "code",
   "execution_count": null,
   "id": "3d1eb01f",
   "metadata": {},
   "outputs": [],
   "source": []
  }
 ],
 "metadata": {
  "kernelspec": {
   "display_name": "Python 3 (ipykernel)",
   "language": "python",
   "name": "python3"
  },
  "language_info": {
   "codemirror_mode": {
    "name": "ipython",
    "version": 3
   },
   "file_extension": ".py",
   "mimetype": "text/x-python",
   "name": "python",
   "nbconvert_exporter": "python",
   "pygments_lexer": "ipython3",
   "version": "3.9.12"
  }
 },
 "nbformat": 4,
 "nbformat_minor": 5
}
