{
 "cells": [
  {
   "cell_type": "code",
   "execution_count": 1,
   "id": "e45cd837",
   "metadata": {},
   "outputs": [],
   "source": [
    "def enqueue(lst, ele):\n",
    "    lst.append(ele)\n",
    "    return lst"
   ]
  },
  {
   "cell_type": "code",
   "execution_count": 2,
   "id": "85163812",
   "metadata": {},
   "outputs": [],
   "source": [
    "def dequeue(lst):\n",
    "    lst.remove(lst[0])\n",
    "    return lst"
   ]
  },
  {
   "cell_type": "code",
   "execution_count": 3,
   "id": "3c2c5977",
   "metadata": {},
   "outputs": [],
   "source": [
    "def count_element(lst):\n",
    "    total = 0\n",
    "    for _ in lst:\n",
    "        total += 1\n",
    "    return total"
   ]
  },
  {
   "cell_type": "code",
   "execution_count": 4,
   "id": "29996852",
   "metadata": {},
   "outputs": [],
   "source": [
    "def display(lst):\n",
    "    print(lst)"
   ]
  },
  {
   "cell_type": "code",
   "execution_count": 5,
   "id": "7e4fa31b",
   "metadata": {},
   "outputs": [
    {
     "name": "stdout",
     "output_type": "stream",
     "text": [
      "insert 10\n",
      "insert 20\n",
      "display\n",
      "['10', '20']\n",
      "insert 30\n",
      "display\n",
      "['10', '20', '30']\n",
      "remove\n",
      "display\n",
      "['20', '30']\n",
      "insert 40\n",
      "count\n",
      "3\n",
      "insert 50\n",
      "display\n",
      "['20', '30', '40', '50']\n",
      "remove\n",
      "display\n",
      "['30', '40', '50']\n",
      "stop\n"
     ]
    }
   ],
   "source": [
    "queue = list()\n",
    "\n",
    "while True:\n",
    "    command = input().split()\n",
    "    \n",
    "    instruct = command[0].upper()\n",
    "    \n",
    "    if instruct == 'STOP':\n",
    "        break\n",
    "    \n",
    "    if instruct == 'COUNT':\n",
    "        total = count_element(queue)\n",
    "        print(total)\n",
    "    \n",
    "    if instruct == 'DISPLAY':\n",
    "        display(queue)\n",
    "        \n",
    "    if instruct == 'REMOVE':\n",
    "        queue = dequeue(queue)\n",
    "        \n",
    "    if instruct == 'INSERT':\n",
    "        ele = command[1]\n",
    "        queue = enqueue(queue, ele)"
   ]
  }
 ],
 "metadata": {
  "kernelspec": {
   "display_name": "Python 3 (ipykernel)",
   "language": "python",
   "name": "python3"
  },
  "language_info": {
   "codemirror_mode": {
    "name": "ipython",
    "version": 3
   },
   "file_extension": ".py",
   "mimetype": "text/x-python",
   "name": "python",
   "nbconvert_exporter": "python",
   "pygments_lexer": "ipython3",
   "version": "3.9.12"
  }
 },
 "nbformat": 4,
 "nbformat_minor": 5
}
