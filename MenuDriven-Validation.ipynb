{
 "cells": [
  {
   "cell_type": "code",
   "execution_count": 1,
   "id": "9291c345",
   "metadata": {},
   "outputs": [],
   "source": [
    "import ValidationOperations as vo\n",
    "from IPython.display import clear_output"
   ]
  },
  {
   "cell_type": "code",
   "execution_count": 2,
   "id": "72c18a9e",
   "metadata": {},
   "outputs": [],
   "source": [
    "another = 'Y'\n",
    "print(\"Welcome to Validation Operations!\")\n",
    "while another.upper() == 'Y':\n",
    "    vo.showMenu()\n",
    "    print()\n",
    "    opt = input(\"Please choose the option from list! : \")\n",
    "    \n",
    "    if opt == '1':\n",
    "        print(\"Validate Name\".center(25,'='))\n",
    "        name = input(\"Enter the Name to validate : \")\n",
    "        \n",
    "        valid = vo.validateName(name)\n",
    "        if valid == True:\n",
    "            print(\"Name is Valid!!!\")\n",
    "        else:\n",
    "            print(\"Name is INVALID!!!\")\n",
    "    elif opt == '2':\n",
    "        print(\"Validate Mobile No\".center(25,'='))\n",
    "        mobile = input(\"Enter the Mobile No. to validate : \")\n",
    "        \n",
    "        valid = vo.validateMobile(mobile)\n",
    "        if valid == True:\n",
    "            print(\"Mobile No is Valid!!!\")\n",
    "        else:\n",
    "            print(\"Mobile No is INVALID!!!\")\n",
    "    elif opt == '3':\n",
    "        print(\"Validate Email Id\".center(25,'='))\n",
    "        email = input(\"Enter the Email Id. to validate : \")\n",
    "        \n",
    "        valid = vo.validateEmailId(email)\n",
    "        if valid == True:\n",
    "            print(\"Email Id is Valid!!!\")\n",
    "        else:\n",
    "            print(\"Email Id is INVALID!!!\")\n",
    "    elif opt == '4':\n",
    "        print(\"Validate Birthdate\".center(25,'='))\n",
    "        birthdate = input(\"Enter the Birthdate to validate : \")\n",
    "        \n",
    "        valid = vo.validateBirthDate(birthdate)\n",
    "        if valid == True:\n",
    "            print(\"Birthdate is Valid!!!\")\n",
    "        else:\n",
    "            print(\"Birthdate is INVALID!!!\")\n",
    "    else:\n",
    "        print(\"You have chosen wrong option!!\")\n",
    "\n",
    "    another = input(\"Do you want to perform another operation? \\\n",
    "                    (Enter Y to continue...)\")\n",
    "    clear_output(wait=False)"
   ]
  }
 ],
 "metadata": {
  "kernelspec": {
   "display_name": "Python 3 (ipykernel)",
   "language": "python",
   "name": "python3"
  },
  "language_info": {
   "codemirror_mode": {
    "name": "ipython",
    "version": 3
   },
   "file_extension": ".py",
   "mimetype": "text/x-python",
   "name": "python",
   "nbconvert_exporter": "python",
   "pygments_lexer": "ipython3",
   "version": "3.9.12"
  }
 },
 "nbformat": 4,
 "nbformat_minor": 5
}
