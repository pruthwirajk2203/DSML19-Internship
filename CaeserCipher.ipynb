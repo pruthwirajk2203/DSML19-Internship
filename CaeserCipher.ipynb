{
 "cells": [
  {
   "cell_type": "code",
   "execution_count": 3,
   "id": "f6ff32a6",
   "metadata": {},
   "outputs": [],
   "source": [
    "def encode_message(msg, enc_fact):\n",
    "    caeser = ''\n",
    "    addFactor = 0\n",
    "    for ch in msg:\n",
    "        if ch.isalpha():\n",
    "            addFactor = ord(ch) + enc_fact\n",
    "            if ch.isupper() and addFactor > 90:\n",
    "                caeser = caeser + chr(64 + abs(90 - addFactor))\n",
    "            elif ch.islower() and addFactor > 122:\n",
    "                caeser = caeser + chr(96 + (abs(122 - addFactor)))\n",
    "            else:\n",
    "                caeser = caeser + chr(addFactor)\n",
    "        else:\n",
    "            caeser = caeser + ch\n",
    "\n",
    "    return caeser"
   ]
  },
  {
   "cell_type": "code",
   "execution_count": 4,
   "id": "d2cfcc39",
   "metadata": {},
   "outputs": [],
   "source": [
    "def decode_message(msg, dec_fact):\n",
    "    caeser = ''\n",
    "    addFactor = 0\n",
    "    for ch in msg:\n",
    "        if ch.isalpha():\n",
    "            addFactor = ord(ch) - dec_fact\n",
    "            if ch.isupper() and addFactor < 65:\n",
    "                caeser = caeser + chr(91 - abs(65 - addFactor))\n",
    "            elif ch.islower() and addFactor < 97:\n",
    "                caeser = caeser + chr(123 - abs(97 - addFactor))\n",
    "            else:\n",
    "                caeser = caeser + chr(addFactor)\n",
    "        else:\n",
    "            caeser = caeser + ch\n",
    "\n",
    "    return caeser"
   ]
  },
  {
   "cell_type": "code",
   "execution_count": 5,
   "id": "3edbd018",
   "metadata": {},
   "outputs": [
    {
     "name": "stdout",
     "output_type": "stream",
     "text": [
      "This is !! sample string...\n",
      "2\n"
     ]
    }
   ],
   "source": [
    "org_msg = input()\n",
    "enc_val = int(input().strip())\n",
    "\n",
    "enc_msg = encode_message(org_msg,enc_val)"
   ]
  },
  {
   "cell_type": "code",
   "execution_count": 6,
   "id": "150a679e",
   "metadata": {},
   "outputs": [
    {
     "data": {
      "text/plain": [
       "'Vjku ku !! ucorng uvtkpi...'"
      ]
     },
     "execution_count": 6,
     "metadata": {},
     "output_type": "execute_result"
    }
   ],
   "source": [
    "enc_msg"
   ]
  },
  {
   "cell_type": "code",
   "execution_count": 7,
   "id": "01e7fd8e",
   "metadata": {},
   "outputs": [],
   "source": [
    "dec_msg = decode_message(enc_msg,enc_val)"
   ]
  },
  {
   "cell_type": "code",
   "execution_count": 8,
   "id": "8c97138a",
   "metadata": {},
   "outputs": [
    {
     "data": {
      "text/plain": [
       "'This is !! sample string...'"
      ]
     },
     "execution_count": 8,
     "metadata": {},
     "output_type": "execute_result"
    }
   ],
   "source": [
    "dec_msg"
   ]
  },
  {
   "cell_type": "code",
   "execution_count": null,
   "id": "197de0d3",
   "metadata": {},
   "outputs": [],
   "source": []
  }
 ],
 "metadata": {
  "kernelspec": {
   "display_name": "Python 3 (ipykernel)",
   "language": "python",
   "name": "python3"
  },
  "language_info": {
   "codemirror_mode": {
    "name": "ipython",
    "version": 3
   },
   "file_extension": ".py",
   "mimetype": "text/x-python",
   "name": "python",
   "nbconvert_exporter": "python",
   "pygments_lexer": "ipython3",
   "version": "3.9.12"
  }
 },
 "nbformat": 4,
 "nbformat_minor": 5
}
