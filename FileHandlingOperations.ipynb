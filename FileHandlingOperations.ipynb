{
 "cells": [
  {
   "cell_type": "code",
   "execution_count": 1,
   "id": "894e9f48",
   "metadata": {},
   "outputs": [],
   "source": [
    "import os"
   ]
  },
  {
   "cell_type": "code",
   "execution_count": 2,
   "id": "65955ae8",
   "metadata": {},
   "outputs": [],
   "source": [
    "def getLongestWord(file):\n",
    "    with open(file, 'r') as fp:\n",
    "        words = fp.read().split()\n",
    "    max_len = len(max(words, key=len))\n",
    "    fp.close()\n",
    "    return [word for word in words if len(word) == max_len]"
   ]
  },
  {
   "cell_type": "code",
   "execution_count": 3,
   "id": "e70e9d60",
   "metadata": {},
   "outputs": [],
   "source": [
    "def getCharCount(file):\n",
    "    with open(file, 'r') as fp:\n",
    "        data = fp.readlines()\n",
    "        count = 0\n",
    "        for d in data:\n",
    "            count += len(d)\n",
    "    fp.close()\n",
    "    return count"
   ]
  },
  {
   "cell_type": "code",
   "execution_count": 4,
   "id": "f542cc11",
   "metadata": {},
   "outputs": [],
   "source": [
    "def getReadFilePointer(file):\n",
    "    rFile = open(file)\n",
    "    return rFile"
   ]
  },
  {
   "cell_type": "code",
   "execution_count": 5,
   "id": "f5753a2e",
   "metadata": {},
   "outputs": [],
   "source": [
    "def getWriteFilePointer(file):\n",
    "    wFile = open(file,\"a\")\n",
    "    return wFile"
   ]
  },
  {
   "cell_type": "code",
   "execution_count": 6,
   "id": "3aeb87ee",
   "metadata": {},
   "outputs": [],
   "source": [
    "def writeMultipleLines(file):\n",
    "    print(\"Type 'N' to stop\")\n",
    "    lstData = []\n",
    "    with open(file, \"w\") as fp:\n",
    "        while True:\n",
    "            l = input()\n",
    "            if l == 'N':\n",
    "                break\n",
    "            lstData.append(l+\"\\n\")\n",
    "        fp.writelines(lstData)\n",
    "    fp.close()"
   ]
  },
  {
   "cell_type": "code",
   "execution_count": 7,
   "id": "9f35c69b",
   "metadata": {},
   "outputs": [],
   "source": [
    "def readMultipleLines(file, num, pos):\n",
    "    with open(file, \"r\") as fp:\n",
    "        data = fp.readlines()\n",
    "        \n",
    "        if pos == 'First':\n",
    "            sliceData = data[:num]\n",
    "            for i in sliceData:\n",
    "                print(i,end=\"\")\n",
    "        elif pos == 'Last':\n",
    "            sliceData = data[-num:]\n",
    "            for i in sliceData:\n",
    "                print(i,end=\"\")\n",
    "        else:\n",
    "            print(\"Wrong option!!!\")\n",
    "            fp.close()\n",
    "            return\n",
    "        \n",
    "    fp.close()"
   ]
  },
  {
   "cell_type": "code",
   "execution_count": 8,
   "id": "09e9c9d0",
   "metadata": {},
   "outputs": [],
   "source": [
    "def showMenu():\n",
    "    print(\"Main Menu\")\n",
    "    print(\"1. Print First N Lines\")\n",
    "    print(\"2. Print Last N Lines\")\n",
    "    print(\"3. Longest Word\")\n",
    "    print(\"4. Count Characters\")"
   ]
  }
 ],
 "metadata": {
  "kernelspec": {
   "display_name": "Python 3 (ipykernel)",
   "language": "python",
   "name": "python3"
  },
  "language_info": {
   "codemirror_mode": {
    "name": "ipython",
    "version": 3
   },
   "file_extension": ".py",
   "mimetype": "text/x-python",
   "name": "python",
   "nbconvert_exporter": "python",
   "pygments_lexer": "ipython3",
   "version": "3.9.12"
  }
 },
 "nbformat": 4,
 "nbformat_minor": 5
}
