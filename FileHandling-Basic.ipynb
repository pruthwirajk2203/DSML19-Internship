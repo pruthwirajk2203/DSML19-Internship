{
 "cells": [
  {
   "cell_type": "code",
   "execution_count": 1,
   "id": "1e3b4250",
   "metadata": {},
   "outputs": [],
   "source": [
    "import os"
   ]
  },
  {
   "cell_type": "code",
   "execution_count": 2,
   "id": "e79ab380",
   "metadata": {},
   "outputs": [],
   "source": [
    "# Write File Pointer to open File for writing.\n",
    "wFilePtr = open(\"Sample.txt\",\"w\")"
   ]
  },
  {
   "cell_type": "code",
   "execution_count": 3,
   "id": "e44f3c0c",
   "metadata": {},
   "outputs": [
    {
     "data": {
      "text/plain": [
       "40"
      ]
     },
     "execution_count": 3,
     "metadata": {},
     "output_type": "execute_result"
    }
   ],
   "source": [
    "# Write to file.\n",
    "wFilePtr.write(\"This is some text I wrote into the File.\")"
   ]
  },
  {
   "cell_type": "code",
   "execution_count": 5,
   "id": "fc876d9e",
   "metadata": {},
   "outputs": [],
   "source": [
    "# Close write file pointer.\n",
    "wFilePtr.close()"
   ]
  },
  {
   "cell_type": "code",
   "execution_count": 6,
   "id": "513d1338",
   "metadata": {},
   "outputs": [],
   "source": [
    "# Read File Pointer to open File for reading.\n",
    "# By default the open function opens file in read text mode.\n",
    "rFilePtr = open(\"Sample.txt\")"
   ]
  },
  {
   "cell_type": "code",
   "execution_count": 7,
   "id": "17b983e7",
   "metadata": {},
   "outputs": [
    {
     "data": {
      "text/plain": [
       "'This is some text I wrote into the File.'"
      ]
     },
     "execution_count": 7,
     "metadata": {},
     "output_type": "execute_result"
    }
   ],
   "source": [
    "# Read from file.\n",
    "rFilePtr.read()"
   ]
  },
  {
   "cell_type": "code",
   "execution_count": 8,
   "id": "f6c2b18f",
   "metadata": {},
   "outputs": [],
   "source": [
    "# Close read file pointer.\n",
    "rFilePtr.close()"
   ]
  },
  {
   "cell_type": "code",
   "execution_count": 17,
   "id": "1bafb2e8",
   "metadata": {},
   "outputs": [],
   "source": [
    "rFilePtr = open(\"Sample.txt\")\n",
    "cFilePtr = open(\"NewFile.txt\",\"w\")\n",
    "\n",
    "for x in rFilePtr:\n",
    "    cFilePtr.write(x)\n",
    "\n",
    "cFilePtr.close()\n",
    "rFilePtr.close()"
   ]
  },
  {
   "cell_type": "code",
   "execution_count": 18,
   "id": "add00370",
   "metadata": {},
   "outputs": [
    {
     "data": {
      "text/plain": [
       "'This is some text I wrote into the File.'"
      ]
     },
     "execution_count": 18,
     "metadata": {},
     "output_type": "execute_result"
    }
   ],
   "source": [
    "rFilePtr = open(\"NewFile.txt\")\n",
    "rFilePtr.read()"
   ]
  },
  {
   "cell_type": "code",
   "execution_count": 19,
   "id": "05899273",
   "metadata": {},
   "outputs": [],
   "source": [
    "rFilePtr.close()"
   ]
  },
  {
   "cell_type": "code",
   "execution_count": null,
   "id": "116c0c99",
   "metadata": {},
   "outputs": [],
   "source": []
  }
 ],
 "metadata": {
  "kernelspec": {
   "display_name": "Python 3 (ipykernel)",
   "language": "python",
   "name": "python3"
  },
  "language_info": {
   "codemirror_mode": {
    "name": "ipython",
    "version": 3
   },
   "file_extension": ".py",
   "mimetype": "text/x-python",
   "name": "python",
   "nbconvert_exporter": "python",
   "pygments_lexer": "ipython3",
   "version": "3.9.12"
  }
 },
 "nbformat": 4,
 "nbformat_minor": 5
}
