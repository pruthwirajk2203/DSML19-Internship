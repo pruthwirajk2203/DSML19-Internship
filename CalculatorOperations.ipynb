{
 "cells": [
  {
   "cell_type": "code",
   "execution_count": 1,
   "id": "17c4141f",
   "metadata": {},
   "outputs": [],
   "source": [
    "import math"
   ]
  },
  {
   "cell_type": "code",
   "execution_count": 2,
   "id": "0d7204fd",
   "metadata": {},
   "outputs": [],
   "source": [
    "def addition(num1, num2):\n",
    "    return num1 + num2"
   ]
  },
  {
   "cell_type": "code",
   "execution_count": 3,
   "id": "396e4b78",
   "metadata": {},
   "outputs": [],
   "source": [
    "def subtraction(num1, num2):\n",
    "    return num1 - num2"
   ]
  },
  {
   "cell_type": "code",
   "execution_count": 4,
   "id": "18978db4",
   "metadata": {},
   "outputs": [],
   "source": [
    "def multiplication(num1, num2):\n",
    "    return num1 * num2"
   ]
  },
  {
   "cell_type": "code",
   "execution_count": 5,
   "id": "eba7fdb2",
   "metadata": {},
   "outputs": [],
   "source": [
    "def division(num1, num2):\n",
    "    return num1 / num2"
   ]
  },
  {
   "cell_type": "code",
   "execution_count": 6,
   "id": "6fcc8075",
   "metadata": {},
   "outputs": [],
   "source": [
    "def floorDivision(num1, num2):\n",
    "    return num1 // num2"
   ]
  },
  {
   "cell_type": "code",
   "execution_count": 7,
   "id": "2e8d6f68",
   "metadata": {},
   "outputs": [],
   "source": [
    "def remainder(num1, num2):\n",
    "    return num1 % num2"
   ]
  },
  {
   "cell_type": "code",
   "execution_count": 8,
   "id": "03b2adad",
   "metadata": {},
   "outputs": [],
   "source": [
    "def square(num1):\n",
    "    return num**2"
   ]
  },
  {
   "cell_type": "code",
   "execution_count": 9,
   "id": "0fae7945",
   "metadata": {},
   "outputs": [],
   "source": [
    "def cube(num1):\n",
    "    return num**3"
   ]
  },
  {
   "cell_type": "code",
   "execution_count": 10,
   "id": "bf62253f",
   "metadata": {},
   "outputs": [],
   "source": [
    "def power(num1, num2):\n",
    "    return num1**num2"
   ]
  },
  {
   "cell_type": "code",
   "execution_count": 11,
   "id": "28a11cae",
   "metadata": {},
   "outputs": [],
   "source": [
    "def squareRoot(num1):\n",
    "    return math.sqrt(num1)"
   ]
  },
  {
   "cell_type": "code",
   "execution_count": 12,
   "id": "3357a974",
   "metadata": {},
   "outputs": [],
   "source": [
    "def sin_of(num1):\n",
    "    return math.sin(num1)"
   ]
  },
  {
   "cell_type": "code",
   "execution_count": 13,
   "id": "4866e806",
   "metadata": {},
   "outputs": [],
   "source": [
    "def cos_of(num1):\n",
    "    return math.cos(num1)"
   ]
  },
  {
   "cell_type": "code",
   "execution_count": 14,
   "id": "3d2e5483",
   "metadata": {},
   "outputs": [],
   "source": [
    "def tan_of(num1):\n",
    "    return math.tan(num1)"
   ]
  },
  {
   "cell_type": "code",
   "execution_count": 15,
   "id": "a017758b",
   "metadata": {},
   "outputs": [],
   "source": [
    "def nat_log(num1):\n",
    "    return math.log(num1)"
   ]
  },
  {
   "cell_type": "code",
   "execution_count": 16,
   "id": "985ff69f",
   "metadata": {},
   "outputs": [],
   "source": [
    "def log_10(num1):\n",
    "    return math.log10(num1)"
   ]
  },
  {
   "cell_type": "code",
   "execution_count": 17,
   "id": "3e6ac260",
   "metadata": {},
   "outputs": [],
   "source": [
    "def exp_n(num1):\n",
    "    return math.exp(num1)"
   ]
  },
  {
   "cell_type": "code",
   "execution_count": 18,
   "id": "1a1e4d6e",
   "metadata": {},
   "outputs": [],
   "source": [
    "def inverse(num1):\n",
    "    return 1/num1"
   ]
  },
  {
   "cell_type": "code",
   "execution_count": 19,
   "id": "18942d1e",
   "metadata": {},
   "outputs": [],
   "source": [
    "def fact(num1):\n",
    "    return math.factorial(num1)"
   ]
  },
  {
   "cell_type": "code",
   "execution_count": 20,
   "id": "0cb04dc6",
   "metadata": {},
   "outputs": [],
   "source": [
    "def absolute(num1):\n",
    "    return math.fabs(num1)"
   ]
  },
  {
   "cell_type": "code",
   "execution_count": 21,
   "id": "dac68dfd",
   "metadata": {},
   "outputs": [],
   "source": [
    "def deg(num1):\n",
    "    return math.degrees(num1)"
   ]
  },
  {
   "cell_type": "code",
   "execution_count": 22,
   "id": "dc30ff8f",
   "metadata": {},
   "outputs": [],
   "source": [
    "def rad(num1):\n",
    "    return math.radians(num1)"
   ]
  },
  {
   "cell_type": "code",
   "execution_count": 23,
   "id": "21398a42",
   "metadata": {},
   "outputs": [],
   "source": [
    "def showMenu():\n",
    "    print(\" Main Menu \".center(20,'='))\n",
    "    print(\"1. Basic\".ljust(20,' '))\n",
    "    print(\"2. Advanced\".ljust(20,' '))\n",
    "    print(\"\".center(20,'='))"
   ]
  },
  {
   "cell_type": "code",
   "execution_count": 24,
   "id": "6f69df08",
   "metadata": {},
   "outputs": [],
   "source": [
    "def basicMenu():\n",
    "    print(\" Basic \".center(20,'='))\n",
    "    print(\"1. Basic\".ljust(20,' '))\n",
    "    print(\"-> (+). Addition\".rjust(len(\"-> (+). Addition\") + 5,' '))\n",
    "    print(\"-> (-). Subtraction\".rjust(len(\"-> (-). Subtraction\") + 5,' '))\n",
    "    print(\"-> (*). Multiplication\".rjust(len(\"-> (*). Multiplication\") + 5,' '))\n",
    "    print(\"-> (/). Division\".rjust(len(\"-> (/). Division\") + 5,' '))\n",
    "    print(\"-> (//). Floor Division\".rjust(len(\"-> (//). Floor Division\") + 5,' '))\n",
    "    print(\"-> (%). Remainder\".rjust(len(\"-> (%). Remainder\") + 5,' '))\n",
    "    print(\"-> (s). Square\".rjust(len(\"-> (s). Square\") + 5,' '))\n",
    "    print(\"-> (c). Cube\".rjust(len(\"-> (c). Cube\") + 5,' '))\n",
    "    print(\"-> (p). Power\".rjust(len(\"-> (p). Power\") + 5,' '))\n",
    "    print(\"-> (sr). Square Root\".rjust(len(\"-> (sr). Square Root\") + 5,' '))\n",
    "    print(\"\".center(20,'='))"
   ]
  },
  {
   "cell_type": "code",
   "execution_count": 25,
   "id": "ee5e7bf2",
   "metadata": {},
   "outputs": [],
   "source": [
    "def advanceMenu():\n",
    "    print(\" Advanced \".center(20,'='))\n",
    "    print(\"2. Advanced\".ljust(20,' '))\n",
    "    print(\"-> (s). Sin\".rjust(len(\"-> (s). Sin\") + 5,' '))\n",
    "    print(\"-> (c). Cos\".rjust(len(\"-> (c). Cos\") + 5,' '))\n",
    "    print(\"-> (t). Tan\".rjust(len(\"-> (t). Tan\") + 5,' '))\n",
    "    print(\"-> (n). N-Log\".rjust(len(\"-> (n). N-Log\") + 5,' '))\n",
    "    print(\"-> (l). Log10\".rjust(len(\"-> (l). Log10\") + 5,' '))\n",
    "    print(\"-> (e). E^n\".rjust(len(\"-> (e). E^n\") + 5,' '))\n",
    "    print(\"-> (i). Inverse\".rjust(len(\"-> (i). Inverse\") + 5,' '))\n",
    "    print(\"-> (f). Factorial\".rjust(len(\"-> (f). Factorial\") + 5,' '))\n",
    "    print(\"-> (a). Absolute\".rjust(len(\"-> (a). Absolute\") + 5,' '))\n",
    "    print(\"-> (d). Degrees\".rjust(len(\"-> (d). Degrees\") + 5,' '))\n",
    "    print(\"-> (r). Radians\".rjust(len(\"-> (r). Radians\") + 5,' '))\n",
    "    print(\"\".center(20,'='))"
   ]
  }
 ],
 "metadata": {
  "kernelspec": {
   "display_name": "Python 3 (ipykernel)",
   "language": "python",
   "name": "python3"
  },
  "language_info": {
   "codemirror_mode": {
    "name": "ipython",
    "version": 3
   },
   "file_extension": ".py",
   "mimetype": "text/x-python",
   "name": "python",
   "nbconvert_exporter": "python",
   "pygments_lexer": "ipython3",
   "version": "3.9.12"
  }
 },
 "nbformat": 4,
 "nbformat_minor": 5
}
