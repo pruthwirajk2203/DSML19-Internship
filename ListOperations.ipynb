{
 "cells": [
  {
   "cell_type": "code",
   "execution_count": 1,
   "id": "7d948045",
   "metadata": {},
   "outputs": [],
   "source": [
    "def showMenu():\n",
    "    print(\" Main Menu \".center(20,'='))\n",
    "    print(\"1. Create List\".ljust(20,' '))\n",
    "    print(\"2. Insert Item\".ljust(20,' '))\n",
    "    print(\"3. Remove Item\".ljust(20,' '))\n",
    "    print(\"4. Find Maximum\".ljust(20,' '))\n",
    "    print(\"5. Find Minimum\".ljust(20,' '))\n",
    "    print(\"6. Sort List\".ljust(20,' '))\n",
    "    print(\"\".center(20,'='))"
   ]
  },
  {
   "cell_type": "code",
   "execution_count": 2,
   "id": "33c8d9a0",
   "metadata": {},
   "outputs": [],
   "source": [
    "def sortMenu():\n",
    "    print(\" Sub Menu \".center(20,'='))\n",
    "    print(\"6. Sort List\".ljust(20,' '))\n",
    "    print(\"->a. Ascending\".rjust(len(\"a. Ascending\") + 5,' '))\n",
    "    print(\"->b. Descending\".rjust(len(\"b. Descending\") + 5,' '))\n",
    "    print(\"\".center(20,'='))"
   ]
  },
  {
   "cell_type": "code",
   "execution_count": 3,
   "id": "bdd8381e",
   "metadata": {},
   "outputs": [],
   "source": [
    "def createList():\n",
    "    nList = list()\n",
    "    return nList"
   ]
  },
  {
   "cell_type": "code",
   "execution_count": 4,
   "id": "43b2a934",
   "metadata": {},
   "outputs": [],
   "source": [
    "def insertItem(lst, pos, item):\n",
    "    if isinstance(item, list):\n",
    "        lst.extend(item)\n",
    "    else:\n",
    "        lst.insert(pos, item)\n",
    "    return lst"
   ]
  },
  {
   "cell_type": "code",
   "execution_count": 5,
   "id": "2d2c5173",
   "metadata": {},
   "outputs": [],
   "source": [
    "def removeItem(lst, item):\n",
    "    lst.remove(item)\n",
    "    return lst"
   ]
  },
  {
   "cell_type": "code",
   "execution_count": 6,
   "id": "8c4b42b4",
   "metadata": {},
   "outputs": [],
   "source": [
    "def getMax(lst):\n",
    "    return max(lst)"
   ]
  },
  {
   "cell_type": "code",
   "execution_count": 7,
   "id": "0b3448ca",
   "metadata": {},
   "outputs": [],
   "source": [
    "def getMin(lst):\n",
    "    return min(lst)"
   ]
  },
  {
   "cell_type": "code",
   "execution_count": 8,
   "id": "31156f9a",
   "metadata": {},
   "outputs": [],
   "source": [
    "def sortList(lst, sortType):\n",
    "    lst.sort(reverse=sortType)\n",
    "    return lst"
   ]
  }
 ],
 "metadata": {
  "kernelspec": {
   "display_name": "Python 3 (ipykernel)",
   "language": "python",
   "name": "python3"
  },
  "language_info": {
   "codemirror_mode": {
    "name": "ipython",
    "version": 3
   },
   "file_extension": ".py",
   "mimetype": "text/x-python",
   "name": "python",
   "nbconvert_exporter": "python",
   "pygments_lexer": "ipython3",
   "version": "3.9.12"
  }
 },
 "nbformat": 4,
 "nbformat_minor": 5
}
