{
 "cells": [
  {
   "cell_type": "code",
   "execution_count": 1,
   "id": "ff64d589",
   "metadata": {},
   "outputs": [],
   "source": [
    "import re\n",
    "import datetime"
   ]
  },
  {
   "cell_type": "code",
   "execution_count": 2,
   "id": "d22b6a7d",
   "metadata": {},
   "outputs": [],
   "source": [
    "def validateName(name):\n",
    "    match = re.search(r'^\\s*(\\b[A-Z]{1}[a-z]+\\b\\s*){1,3}', name)\n",
    "    if match:\n",
    "        return True\n",
    "    else:\n",
    "        return False"
   ]
  },
  {
   "cell_type": "code",
   "execution_count": 3,
   "id": "cb7cf166",
   "metadata": {},
   "outputs": [],
   "source": [
    "def validateMobile(mobNo):\n",
    "    match = re.search(r\"[6-9]{1}\\d{9}\",mobNo)\n",
    "    if len(mobNo) == 10:\n",
    "        if match:\n",
    "            return True\n",
    "        else:\n",
    "            return False\n",
    "    else:\n",
    "        print(\"Incorrect Mobile No.\")\n",
    "        return False"
   ]
  },
  {
   "cell_type": "code",
   "execution_count": 4,
   "id": "f9b9bbd4",
   "metadata": {},
   "outputs": [],
   "source": [
    "def validateEmailId(emailId):\n",
    "    match = re.search(r'^[a-z0-9]+[\\._]?[a-z0-9]+[@]\\w+[.]\\w{2,4}$',emailId)\n",
    "    if match:\n",
    "        return True\n",
    "    else:\n",
    "        return False"
   ]
  },
  {
   "cell_type": "code",
   "execution_count": 5,
   "id": "c23c95dc",
   "metadata": {},
   "outputs": [],
   "source": [
    "def validateBirthDate(birthDate):\n",
    "    match = re.search(\"\\d{2}[/.-]\\d{2}[/.-]\\d{4}\",birthDate)\n",
    "    if match:\n",
    "        dateVal = birthDate[:2]\n",
    "        monthVal = birthDate[3:5]\n",
    "        yearVal = birthDate[6:]\n",
    "        \n",
    "        dateRange = list(range(1,32))\n",
    "        monthRange = list(range(1,13))\n",
    "        \n",
    "        if (int(monthVal) in monthRange) and (int(dateVal) in dateRange):\n",
    "            if (int(yearVal) < datetime.date.today().year):\n",
    "                return True\n",
    "            elif (int(yearVal) == datetime.date.today().year):\n",
    "                if (int(monthVal) < datetime.date.today().month):\n",
    "                    return True\n",
    "                elif (int(monthVal) == datetime.date.today().month):\n",
    "                    if (int(dateVal) <= datetime.date.today().day):\n",
    "                        return True\n",
    "                    else:\n",
    "                        print(\"Future Date!!!\")\n",
    "                        return False\n",
    "                else:\n",
    "                    print(\"Future Date!!!\")\n",
    "                    return False\n",
    "            else:\n",
    "                print(\"Future Date!!!\")\n",
    "                return False\n",
    "        else:\n",
    "            print(\"Invalid Date or Month!!!\")\n",
    "            return False\n",
    "    else:\n",
    "        print(\"No Match Found!!!\")\n",
    "        return False"
   ]
  },
  {
   "cell_type": "code",
   "execution_count": 6,
   "id": "e5d0c3bc",
   "metadata": {},
   "outputs": [],
   "source": [
    "def showMenu():\n",
    "    print(\" Main Menu \".center(25,'='))\n",
    "    print(\"1. Validate Name\".ljust(25,' '))\n",
    "    print(\"2. Validate Mobile No\".ljust(25,' '))\n",
    "    print(\"3. Validate Email Id\".ljust(25,' '))\n",
    "    print(\"4. Validate Birthdate\".ljust(25,' '))\n",
    "    print(\"\".center(25,'='))"
   ]
  }
 ],
 "metadata": {
  "kernelspec": {
   "display_name": "Python 3 (ipykernel)",
   "language": "python",
   "name": "python3"
  },
  "language_info": {
   "codemirror_mode": {
    "name": "ipython",
    "version": 3
   },
   "file_extension": ".py",
   "mimetype": "text/x-python",
   "name": "python",
   "nbconvert_exporter": "python",
   "pygments_lexer": "ipython3",
   "version": "3.9.12"
  }
 },
 "nbformat": 4,
 "nbformat_minor": 5
}
